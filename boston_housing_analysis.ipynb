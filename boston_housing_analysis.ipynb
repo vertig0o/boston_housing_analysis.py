{
 "cells": [
  {
   "cell_type": "code",
   "execution_count": 1,
   "metadata": {},
   "outputs": [],
   "source": [
    "import pandas as pd\n",
    "import numpy as np\n",
    "import seaborn as sns\n",
    "import matplotlib.pyplot as plt\n",
    "from sklearn.model_selection import train_test_split\n",
    "from sklearn.metrics import mean_squared_error\n",
    "from sklearn.ensemble import RandomForestRegressor\n",
    "from sklearn.linear_model import LinearRegression\n"
   ]
  },
  {
   "cell_type": "code",
   "execution_count": 2,
   "metadata": {},
   "outputs": [],
   "source": [
    "# Veri setini yükleyelim\n",
    "url = 'https://raw.githubusercontent.com/selva86/datasets/master/BostonHousing.csv'\n",
    "data = pd.read_csv(url)\n",
    "data.head()"
   ]
  },
  {
   "cell_type": "code",
   "execution_count": 3,
   "metadata": {},
   "outputs": [],
   "source": [
    "# Eksik değerlerin kontrolü\n",
    "data.isnull().sum()"
   ]
  },
  {
   "cell_type": "code",
   "execution_count": 4,
   "metadata": {},
   "outputs": [],
   "source": [
    "# Outlier'ları görselleştirme\n",
    "plt.figure(figsize=(12, 6))\n",
    "sns.boxplot(data=data['medv'])  # medv (median value) bağımlı değişken\n",
    "plt.title('Outliers in Target Variable')\n",
    "plt.show()"
   ]
  },
  {
   "cell_type": "code",
   "execution_count": 5,
   "metadata": {},
   "outputs": [],
   "source": [
    "# Outlier'ları kaldırma\n",
    "Q1 = data['medv'].quantile(0.25)\n",
    "Q3 = data['medv'].quantile(0.75)\n",
    "IQR = Q3 - Q1\n",
    "lower_bound = Q1 - 1.5 * IQR\n",
    "upper_bound = Q3 + 1.5 * IQR\n",
    "data = data[(data['medv'] > lower_bound) & (data['medv'] < upper_bound)]\n",
    "data.head()"
   ]
  },
  {
   "cell_type": "code",
   "execution_count": 6,
   "metadata": {},
   "outputs": [],
   "source": [
    "# Özellikler ve bağımlı değişken\n",
    "X = data.drop(columns=['medv'])  # Bağımlı değişkeni çıkarıyoruz\n",
    "y = data['medv']\n",
    "X.head()"
   ]
  },
  {
   "cell_type": "code",
   "execution_count": 7,
   "metadata": {},
   "outputs": [],
   "source": [
    "# Veriyi eğitim, doğrulama ve test setlerine bölüyoruz\n",
    "X_train, X_temp, y_train, y_temp = train_test_split(X, y, test_size=0.3, random_state=42)\n",
    "X_val, X_test, y_val, y_test = train_test_split(X_temp, y_temp, test_size=0.5, random_state=42)\n",
    "X_train.shape, X_val.shape, X_test.shape"
   ]
  },
  {
   "cell_type": "code",
   "execution_count": 8,
   "metadata": {},
   "outputs": [],
   "source": [
    "# Modelleri eğitelim\n",
    "models = {\n",
    "    'Linear Regression': LinearRegression(),\n",
    "    'Random Forest': RandomForestRegressor(random_state=42)\n",
    "}\n",
    "results = {}\n",
    "for name, model in models.items():\n",
    "    model.fit(X_train, y_train)\n",
    "    preds = model.predict(X_val)\n",
    "    rmse = np.sqrt(mean_squared_error(y_val, preds))\n",
    "    results[name] = rmse\n",
    "results"
   ]
  },
  {
   "cell_type": "code",
   "execution_count": 9,
   "metadata": {},
   "outputs": [],
   "source": [
    "# En iyi modeli seçelim\n",
    "best_model_name = min(results, key=results.get)\n",
    "best_model_name, results[best_model_name]"
   ]
  },
  {
   "cell_type": "code",
   "execution_count": 10,
   "metadata": {},
   "outputs": [],
   "source": [
    "# Test seti üzerindeki başarıyı kontrol edelim\n",
    "best_model = models[best_model_name]\n",
    "test_preds = best_model.predict(X_test)\n",
    "test_rmse = np.sqrt(mean_squared_error(y_test, test_preds))\n",
    "test_rmse"
   ]
  },
  {
   "cell_type": "code",
   "execution_count": 11,
   "metadata": {},
   "outputs": [],
   "source": [
    "# Özelliklerin önem derecelerini hesaplayalım\n",
    "feature_importances = best_model.feature_importances_\n",
    "importance_df = pd.DataFrame({\n",
    "    'Feature': X.columns,\n",
    "    'Importance': feature_importances\n",
    "}).sort_values(by='Importance', ascending=False)\n",
    "importance_df"
   ]
  },
  {
   "cell_type": "code",
   "execution_count": 12,
   "metadata": {},
   "outputs": [],
   "source": [
    "# Özelliklerin önem derecelerini görselleştirelim\n",
    "importance_df.plot(kind='bar', x='Feature', y='Importance', title='Feature Importances', legend=False)\n",
    "plt.show()"
   ]
  },
  {
   "cell_type": "markdown",
   "metadata": {},
   "source": [
    "# Sonuçlar\n",
    "### En İyi Model: Random Forest\n",
    "En iyi model **Random Forest Regressor** olup, modelin doğrulama setindeki **RMSE (Root Mean Squared Error)** değeri **2.93**'tür.\n",
    "### Test Sonuçları\n",
    "Test seti üzerindeki **RMSE** değeri ise **2.43**'tür.\n",
    "### Özellik Önem Dereceleri\n",
    "Random Forest modelinin özellikler için hesapladığı önem dereceleri aşağıdaki tabloda verilmiştir:\n",
    "![Feature Importances](images/feature_importances.png)\n",
    "### Outlier Görselleştirmesi\n",
    "![Outliers in Target Variable](images/outliers.png)"
   ]
  }
 ],
 "metadata": {
  "kernelspec": {
   "display_name": "Python 3",
   "language": "python",
   "name": "python3"
  },
  "language_info": {
   "codemirror_mode": {
    "name": "ipython",
    "version": 3
   },
   "file_extension": ".py",
   "mimetype": "text/x-python",
   "name": "python",
   "nbconvert_exporter": "python",
   "version": "3.8.8"
  }
 },
 "nbformat": 4,
 "nbformat_minor": 5
}
